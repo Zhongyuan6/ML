{
 "cells": [
  {
   "cell_type": "code",
   "execution_count": 1,
   "id": "c3816947",
   "metadata": {},
   "outputs": [],
   "source": [
    "from sklearn import tree"
   ]
  },
  {
   "cell_type": "code",
   "execution_count": 2,
   "id": "fa3f8d7d",
   "metadata": {},
   "outputs": [],
   "source": [
    "X=[[1, 1], [2, 1], [3, 1], [1, 2], [2, 2], [1, 3]]\n",
    "y = [0, 0, 1, 1, 1, 1]"
   ]
  },
  {
   "cell_type": "code",
   "execution_count": 3,
   "id": "fdccf579",
   "metadata": {},
   "outputs": [
    {
     "data": {
      "text/plain": [
       "DecisionTreeClassifier(criterion='entropy')"
      ]
     },
     "execution_count": 3,
     "metadata": {},
     "output_type": "execute_result"
    }
   ],
   "source": [
    "clf = tree.DecisionTreeClassifier(criterion = 'entropy')\n",
    "clf.fit(X, y)"
   ]
  },
  {
   "cell_type": "code",
   "execution_count": 6,
   "id": "bf67ce40",
   "metadata": {},
   "outputs": [
    {
     "name": "stdout",
     "output_type": "stream",
     "text": [
      "|--- feature_1 <= 1.50\n",
      "|   |--- feature_0 <= 2.50\n",
      "|   |   |--- class: 0\n",
      "|   |--- feature_0 >  2.50\n",
      "|   |   |--- class: 1\n",
      "|--- feature_1 >  1.50\n",
      "|   |--- class: 1\n",
      "\n"
     ]
    }
   ],
   "source": [
    "tr = tree.export_text(clf)\n",
    "print(tr)"
   ]
  },
  {
   "cell_type": "code",
   "execution_count": 5,
   "id": "76b02ee7",
   "metadata": {},
   "outputs": [
    {
     "data": {
      "text/plain": [
       "array([0])"
      ]
     },
     "execution_count": 5,
     "metadata": {},
     "output_type": "execute_result"
    }
   ],
   "source": [
    "clf.predict([[0, 1]])"
   ]
  },
  {
   "cell_type": "code",
   "execution_count": null,
   "id": "51eca639",
   "metadata": {},
   "outputs": [],
   "source": []
  }
 ],
 "metadata": {
  "kernelspec": {
   "display_name": "Python 3 (ipykernel)",
   "language": "python",
   "name": "python3"
  },
  "language_info": {
   "codemirror_mode": {
    "name": "ipython",
    "version": 3
   },
   "file_extension": ".py",
   "mimetype": "text/x-python",
   "name": "python",
   "nbconvert_exporter": "python",
   "pygments_lexer": "ipython3",
   "version": "3.9.7"
  }
 },
 "nbformat": 4,
 "nbformat_minor": 5
}
